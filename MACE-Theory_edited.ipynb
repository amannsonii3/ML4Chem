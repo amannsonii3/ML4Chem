{
  "cells": [
    {
      "cell_type": "code",
      "execution_count": 1,
      "metadata": {
        "colab": {
          "base_uri": "https://localhost:8080/"
        },
        "id": "StYrTiZ197i9",
        "outputId": "3fc9e643-9e6d-4d3a-ac62-2c072dea30c9"
      },
      "outputs": [
        {
          "output_type": "stream",
          "name": "stdout",
          "text": [
            "Collecting mace-torch\n",
            "  Downloading mace_torch-0.3.9-py3-none-any.whl.metadata (17 kB)\n",
            "Requirement already satisfied: torch>=1.12 in /usr/local/lib/python3.11/dist-packages (from mace-torch) (2.5.1+cu121)\n",
            "Collecting e3nn==0.4.4 (from mace-torch)\n",
            "  Downloading e3nn-0.4.4-py3-none-any.whl.metadata (5.1 kB)\n",
            "Requirement already satisfied: numpy<2.0 in /usr/local/lib/python3.11/dist-packages (from mace-torch) (1.26.4)\n",
            "Requirement already satisfied: opt-einsum in /usr/local/lib/python3.11/dist-packages (from mace-torch) (3.4.0)\n",
            "Collecting ase (from mace-torch)\n",
            "  Downloading ase-3.24.0-py3-none-any.whl.metadata (3.9 kB)\n",
            "Collecting torch-ema (from mace-torch)\n",
            "  Downloading torch_ema-0.3-py3-none-any.whl.metadata (415 bytes)\n",
            "Requirement already satisfied: prettytable in /usr/local/lib/python3.11/dist-packages (from mace-torch) (3.12.0)\n",
            "Collecting matscipy (from mace-torch)\n",
            "  Downloading matscipy-1.1.1-cp311-cp311-manylinux_2_17_x86_64.manylinux2014_x86_64.whl.metadata (37 kB)\n",
            "Requirement already satisfied: h5py in /usr/local/lib/python3.11/dist-packages (from mace-torch) (3.12.1)\n",
            "Collecting torchmetrics (from mace-torch)\n",
            "  Downloading torchmetrics-1.6.1-py3-none-any.whl.metadata (21 kB)\n",
            "Collecting python-hostlist (from mace-torch)\n",
            "  Downloading python-hostlist-2.2.1.tar.gz (37 kB)\n",
            "  Preparing metadata (setup.py) ... \u001b[?25l\u001b[?25hdone\n",
            "Collecting configargparse (from mace-torch)\n",
            "  Downloading ConfigArgParse-1.7-py3-none-any.whl.metadata (23 kB)\n",
            "Requirement already satisfied: GitPython in /usr/local/lib/python3.11/dist-packages (from mace-torch) (3.1.44)\n",
            "Requirement already satisfied: pyYAML in /usr/local/lib/python3.11/dist-packages (from mace-torch) (6.0.2)\n",
            "Requirement already satisfied: tqdm in /usr/local/lib/python3.11/dist-packages (from mace-torch) (4.67.1)\n",
            "Collecting cuequivariance-torch (from mace-torch)\n",
            "  Downloading cuequivariance_torch-0.1.0-py3-none-any.whl.metadata (13 kB)\n",
            "Requirement already satisfied: matplotlib in /usr/local/lib/python3.11/dist-packages (from mace-torch) (3.10.0)\n",
            "Requirement already satisfied: pandas in /usr/local/lib/python3.11/dist-packages (from mace-torch) (2.2.2)\n",
            "Requirement already satisfied: sympy in /usr/local/lib/python3.11/dist-packages (from e3nn==0.4.4->mace-torch) (1.13.1)\n",
            "Requirement already satisfied: scipy in /usr/local/lib/python3.11/dist-packages (from e3nn==0.4.4->mace-torch) (1.13.1)\n",
            "Collecting opt-einsum-fx>=0.1.4 (from e3nn==0.4.4->mace-torch)\n",
            "  Downloading opt_einsum_fx-0.1.4-py3-none-any.whl.metadata (3.3 kB)\n",
            "Requirement already satisfied: filelock in /usr/local/lib/python3.11/dist-packages (from torch>=1.12->mace-torch) (3.16.1)\n",
            "Requirement already satisfied: typing-extensions>=4.8.0 in /usr/local/lib/python3.11/dist-packages (from torch>=1.12->mace-torch) (4.12.2)\n",
            "Requirement already satisfied: networkx in /usr/local/lib/python3.11/dist-packages (from torch>=1.12->mace-torch) (3.4.2)\n",
            "Requirement already satisfied: jinja2 in /usr/local/lib/python3.11/dist-packages (from torch>=1.12->mace-torch) (3.1.5)\n",
            "Requirement already satisfied: fsspec in /usr/local/lib/python3.11/dist-packages (from torch>=1.12->mace-torch) (2024.10.0)\n",
            "Requirement already satisfied: nvidia-cuda-nvrtc-cu12==12.1.105 in /usr/local/lib/python3.11/dist-packages (from torch>=1.12->mace-torch) (12.1.105)\n",
            "Requirement already satisfied: nvidia-cuda-runtime-cu12==12.1.105 in /usr/local/lib/python3.11/dist-packages (from torch>=1.12->mace-torch) (12.1.105)\n",
            "Requirement already satisfied: nvidia-cuda-cupti-cu12==12.1.105 in /usr/local/lib/python3.11/dist-packages (from torch>=1.12->mace-torch) (12.1.105)\n",
            "Requirement already satisfied: nvidia-cudnn-cu12==9.1.0.70 in /usr/local/lib/python3.11/dist-packages (from torch>=1.12->mace-torch) (9.1.0.70)\n",
            "Requirement already satisfied: nvidia-cublas-cu12==12.1.3.1 in /usr/local/lib/python3.11/dist-packages (from torch>=1.12->mace-torch) (12.1.3.1)\n",
            "Requirement already satisfied: nvidia-cufft-cu12==11.0.2.54 in /usr/local/lib/python3.11/dist-packages (from torch>=1.12->mace-torch) (11.0.2.54)\n",
            "Requirement already satisfied: nvidia-curand-cu12==10.3.2.106 in /usr/local/lib/python3.11/dist-packages (from torch>=1.12->mace-torch) (10.3.2.106)\n",
            "Requirement already satisfied: nvidia-cusolver-cu12==11.4.5.107 in /usr/local/lib/python3.11/dist-packages (from torch>=1.12->mace-torch) (11.4.5.107)\n",
            "Requirement already satisfied: nvidia-cusparse-cu12==12.1.0.106 in /usr/local/lib/python3.11/dist-packages (from torch>=1.12->mace-torch) (12.1.0.106)\n",
            "Requirement already satisfied: nvidia-nccl-cu12==2.21.5 in /usr/local/lib/python3.11/dist-packages (from torch>=1.12->mace-torch) (2.21.5)\n",
            "Requirement already satisfied: nvidia-nvtx-cu12==12.1.105 in /usr/local/lib/python3.11/dist-packages (from torch>=1.12->mace-torch) (12.1.105)\n",
            "Requirement already satisfied: triton==3.1.0 in /usr/local/lib/python3.11/dist-packages (from torch>=1.12->mace-torch) (3.1.0)\n",
            "Requirement already satisfied: nvidia-nvjitlink-cu12 in /usr/local/lib/python3.11/dist-packages (from nvidia-cusolver-cu12==11.4.5.107->torch>=1.12->mace-torch) (12.6.85)\n",
            "Requirement already satisfied: mpmath<1.4,>=1.1.0 in /usr/local/lib/python3.11/dist-packages (from sympy->e3nn==0.4.4->mace-torch) (1.3.0)\n",
            "Requirement already satisfied: contourpy>=1.0.1 in /usr/local/lib/python3.11/dist-packages (from matplotlib->mace-torch) (1.3.1)\n",
            "Requirement already satisfied: cycler>=0.10 in /usr/local/lib/python3.11/dist-packages (from matplotlib->mace-torch) (0.12.1)\n",
            "Requirement already satisfied: fonttools>=4.22.0 in /usr/local/lib/python3.11/dist-packages (from matplotlib->mace-torch) (4.55.3)\n",
            "Requirement already satisfied: kiwisolver>=1.3.1 in /usr/local/lib/python3.11/dist-packages (from matplotlib->mace-torch) (1.4.8)\n",
            "Requirement already satisfied: packaging>=20.0 in /usr/local/lib/python3.11/dist-packages (from matplotlib->mace-torch) (24.2)\n",
            "Requirement already satisfied: pillow>=8 in /usr/local/lib/python3.11/dist-packages (from matplotlib->mace-torch) (11.1.0)\n",
            "Requirement already satisfied: pyparsing>=2.3.1 in /usr/local/lib/python3.11/dist-packages (from matplotlib->mace-torch) (3.2.1)\n",
            "Requirement already satisfied: python-dateutil>=2.7 in /usr/local/lib/python3.11/dist-packages (from matplotlib->mace-torch) (2.8.2)\n",
            "Collecting cuequivariance (from cuequivariance-torch->mace-torch)\n",
            "  Downloading cuequivariance-0.1.0-py3-none-any.whl.metadata (14 kB)\n",
            "Requirement already satisfied: gitdb<5,>=4.0.1 in /usr/local/lib/python3.11/dist-packages (from GitPython->mace-torch) (4.0.12)\n",
            "Requirement already satisfied: pytz>=2020.1 in /usr/local/lib/python3.11/dist-packages (from pandas->mace-torch) (2024.2)\n",
            "Requirement already satisfied: tzdata>=2022.7 in /usr/local/lib/python3.11/dist-packages (from pandas->mace-torch) (2024.2)\n",
            "Requirement already satisfied: wcwidth in /usr/local/lib/python3.11/dist-packages (from prettytable->mace-torch) (0.2.13)\n",
            "Collecting lightning-utilities>=0.8.0 (from torchmetrics->mace-torch)\n",
            "  Downloading lightning_utilities-0.11.9-py3-none-any.whl.metadata (5.2 kB)\n",
            "Requirement already satisfied: smmap<6,>=3.0.1 in /usr/local/lib/python3.11/dist-packages (from gitdb<5,>=4.0.1->GitPython->mace-torch) (5.0.2)\n",
            "Requirement already satisfied: setuptools in /usr/local/lib/python3.11/dist-packages (from lightning-utilities>=0.8.0->torchmetrics->mace-torch) (75.1.0)\n",
            "Requirement already satisfied: six>=1.5 in /usr/local/lib/python3.11/dist-packages (from python-dateutil>=2.7->matplotlib->mace-torch) (1.17.0)\n",
            "Requirement already satisfied: MarkupSafe>=2.0 in /usr/local/lib/python3.11/dist-packages (from jinja2->torch>=1.12->mace-torch) (3.0.2)\n",
            "Downloading mace_torch-0.3.9-py3-none-any.whl (152 kB)\n",
            "\u001b[2K   \u001b[90m━━━━━━━━━━━━━━━━━━━━━━━━━━━━━━━━━━━━━━━━\u001b[0m \u001b[32m152.8/152.8 kB\u001b[0m \u001b[31m4.5 MB/s\u001b[0m eta \u001b[36m0:00:00\u001b[0m\n",
            "\u001b[?25hDownloading e3nn-0.4.4-py3-none-any.whl (387 kB)\n",
            "\u001b[2K   \u001b[90m━━━━━━━━━━━━━━━━━━━━━━━━━━━━━━━━━━━━━━━━\u001b[0m \u001b[32m387.7/387.7 kB\u001b[0m \u001b[31m10.4 MB/s\u001b[0m eta \u001b[36m0:00:00\u001b[0m\n",
            "\u001b[?25hDownloading ase-3.24.0-py3-none-any.whl (2.9 MB)\n",
            "\u001b[2K   \u001b[90m━━━━━━━━━━━━━━━━━━━━━━━━━━━━━━━━━━━━━━━━\u001b[0m \u001b[32m2.9/2.9 MB\u001b[0m \u001b[31m30.2 MB/s\u001b[0m eta \u001b[36m0:00:00\u001b[0m\n",
            "\u001b[?25hDownloading ConfigArgParse-1.7-py3-none-any.whl (25 kB)\n",
            "Downloading cuequivariance_torch-0.1.0-py3-none-any.whl (39 kB)\n",
            "Downloading matscipy-1.1.1-cp311-cp311-manylinux_2_17_x86_64.manylinux2014_x86_64.whl (448 kB)\n",
            "\u001b[2K   \u001b[90m━━━━━━━━━━━━━━━━━━━━━━━━━━━━━━━━━━━━━━━━\u001b[0m \u001b[32m448.8/448.8 kB\u001b[0m \u001b[31m13.2 MB/s\u001b[0m eta \u001b[36m0:00:00\u001b[0m\n",
            "\u001b[?25hDownloading torch_ema-0.3-py3-none-any.whl (5.5 kB)\n",
            "Downloading torchmetrics-1.6.1-py3-none-any.whl (927 kB)\n",
            "\u001b[2K   \u001b[90m━━━━━━━━━━━━━━━━━━━━━━━━━━━━━━━━━━━━━━━━\u001b[0m \u001b[32m927.3/927.3 kB\u001b[0m \u001b[31m18.0 MB/s\u001b[0m eta \u001b[36m0:00:00\u001b[0m\n",
            "\u001b[?25hDownloading lightning_utilities-0.11.9-py3-none-any.whl (28 kB)\n",
            "Downloading opt_einsum_fx-0.1.4-py3-none-any.whl (13 kB)\n",
            "Downloading cuequivariance-0.1.0-py3-none-any.whl (102 kB)\n",
            "\u001b[2K   \u001b[90m━━━━━━━━━━━━━━━━━━━━━━━━━━━━━━━━━━━━━━━━\u001b[0m \u001b[32m102.5/102.5 kB\u001b[0m \u001b[31m5.9 MB/s\u001b[0m eta \u001b[36m0:00:00\u001b[0m\n",
            "\u001b[?25hBuilding wheels for collected packages: python-hostlist\n",
            "  Building wheel for python-hostlist (setup.py) ... \u001b[?25l\u001b[?25hdone\n",
            "  Created wheel for python-hostlist: filename=python_hostlist-2.2.1-py3-none-any.whl size=39603 sha256=fd3c490d03ce86b91e04c66a456f856e29880ab2163d975031a71e1f84ed5e11\n",
            "  Stored in directory: /root/.cache/pip/wheels/df/d3/7c/23728e2c3ff6d2fcc1c8b8bb7a101fa205b2f7cd37431a938b\n",
            "Successfully built python-hostlist\n",
            "Installing collected packages: python-hostlist, lightning-utilities, configargparse, cuequivariance, cuequivariance-torch, ase, torchmetrics, torch-ema, opt-einsum-fx, matscipy, e3nn, mace-torch\n",
            "Successfully installed ase-3.24.0 configargparse-1.7 cuequivariance-0.1.0 cuequivariance-torch-0.1.0 e3nn-0.4.4 lightning-utilities-0.11.9 mace-torch-0.3.9 matscipy-1.1.1 opt-einsum-fx-0.1.4 python-hostlist-2.2.1 torch-ema-0.3 torchmetrics-1.6.1\n"
          ]
        }
      ],
      "source": [
        "!pip install mace-torch"
      ]
    },
    {
      "cell_type": "markdown",
      "metadata": {
        "id": "edW2wno497i-"
      },
      "source": [
        "# Deep Dive into the MACE Architecture"
      ]
    },
    {
      "cell_type": "markdown",
      "metadata": {
        "editable": true,
        "tags": [],
        "id": "l78nBTYL97i_"
      },
      "source": [
        "In this tutorial, you will do a dive into the `MACE` code, which is a highly accurate and efficient MLIP. If you would like to understand this method in more detail, you can find the [original method paper](https://proceedings.neurips.cc/paper_files/paper/2022/file/4a36c3c51af11ed9f34615b81edb5bbc-Paper-Conference.pdf). MACE is a Message Passing Neural Network (MPNNs) Interatomic Potential that forms equivariant many body messages.\n",
        "\n",
        "MACE was developed by unifying the Atomic Cluster Expansion (ACE) approach with the equivariant MPNNs. The mathematical formalism which unifies these methods is explained in the [accompaning paper](https://doi.org/10.48550/arXiv.2205.06643). Another [useful reference](\n",
        "https://doi.org/10.1063/5.0155322) showcases the methods performance on published benchmark datasets aswell as updated set of equations that we will follow in this notebook.  The [code implementation](https://github.com/ACEsuit/mace) is publically available and [here](https://mace-docs.readthedocs.io/en/latest/) you can find the accompaning documentation.\n",
        "\n",
        "The tutorial was developed by Will Baldwin and is based on a 'developer tutorial' from [Ilyes Batatia at University of Cambridge](https://github.com/ilyes319/mace-tutorials/)\n",
        "\n",
        "There isn't much 'computing' to be done for this notebook - the idea is to expose some of the inner functions and give you the option ot see whats going on by fiddling with the internals."
      ]
    },
    {
      "cell_type": "markdown",
      "metadata": {
        "id": "TETuANJ_97jA"
      },
      "source": [
        "![alt text](https://github.com/imagdau/Tutorials/blob/main/figures/sketch.png?raw=1)"
      ]
    },
    {
      "cell_type": "markdown",
      "metadata": {
        "id": "bpN_sV-h97jA"
      },
      "source": [
        "MACE is a function which takes in an atomic environment and computes an energy. In some of the lectures, we discussed the steps of 'designing features' and 'fitting' seperately. In MACE, these two steps are really blended together.\n",
        "\n",
        "This is illustrated in the figure above - most of the weights (and most of the computational effort) in a MACE model is constructing the atomic features. One you have these, the energy is a relatively simple learnable function of these features.\n",
        "\n",
        "In this tutoral we will look inside the feature construction of MACE and examine the individual equations and blocks of code."
      ]
    },
    {
      "cell_type": "markdown",
      "metadata": {
        "id": "Zl7Pivwz97jA"
      },
      "source": [
        "## Schematic of MACE"
      ]
    },
    {
      "cell_type": "markdown",
      "metadata": {
        "id": "fA3p2uM597jA"
      },
      "source": [
        "![alt text](https://github.com/imagdau/Tutorials/blob/main/figures/mace_architecture.png?raw=1)"
      ]
    },
    {
      "cell_type": "markdown",
      "metadata": {
        "id": "J5PdjpJP97jA"
      },
      "source": [
        "The Figure shows a schematic of MACE. The key steps are:\n",
        " - 1) The Embedding. Atomic structures are turned into an initial set of 'features' describing the chemical species of each node, and describing the length and orientation of each edge.\n",
        " - 2) Feature Construction\n",
        "    - 2.1) Interaction: Information is pooled from neighbours\n",
        "    - 2.2) Product: the information aggregated from neighbours is raised to a power, creating many body descriptors.\n",
        "    - 2.3) Update: the previous node features are updated based on the output from the product step.\n",
        " - 3) Readout. The new features are mapped to an energy.\n",
        " - 4) Repeat. The process is repeated, but the informatino describing each node (node features 1) is now much richer than it was in the previous iteration (node features 0)."
      ]
    },
    {
      "cell_type": "markdown",
      "metadata": {
        "id": "G9ChY_mZ97jB"
      },
      "source": [
        "## Default Model Parameters\n",
        "\n",
        "declare some things now to keep the notebook tidy - we will come back to them later"
      ]
    },
    {
      "cell_type": "code",
      "execution_count": 2,
      "metadata": {
        "id": "EqGr9Qz-lWaB",
        "colab": {
          "base_uri": "https://localhost:8080/"
        },
        "outputId": "759d328b-b1f1-42b8-fe5c-6a967177a48a"
      },
      "outputs": [
        {
          "output_type": "stream",
          "name": "stderr",
          "text": [
            "/usr/local/lib/python3.11/dist-packages/e3nn/o3/_wigner.py:10: FutureWarning: You are using `torch.load` with `weights_only=False` (the current default value), which uses the default pickle module implicitly. It is possible to construct malicious pickle data which will execute arbitrary code during unpickling (See https://github.com/pytorch/pytorch/blob/main/SECURITY.md#untrusted-models for more details). In a future release, the default value for `weights_only` will be flipped to `True`. This limits the functions that could be executed during unpickling. Arbitrary objects will no longer be allowed to be loaded via this mode unless they are explicitly allowlisted by the user via `torch.serialization.add_safe_globals`. We recommend you start setting `weights_only=True` for any use case where you don't have full control of the loaded file. Please open an issue on GitHub for any issues related to this experimental feature.\n",
            "  _Jd, _W3j_flat, _W3j_indices = torch.load(os.path.join(os.path.dirname(__file__), 'constants.pt'))\n"
          ]
        }
      ],
      "source": [
        "import numpy as np\n",
        "import torch\n",
        "import torch.nn.functional\n",
        "from e3nn import o3\n",
        "from matplotlib import pyplot as plt\n",
        "import ase.io\n",
        "%matplotlib inline\n",
        "from ase.visualize import view\n",
        "from scipy.spatial.transform import Rotation\n",
        "\n",
        "from mace import data, modules, tools\n",
        "from mace.tools import torch_geometric\n",
        "torch.set_default_dtype(torch.float64)"
      ]
    },
    {
      "cell_type": "code",
      "execution_count": 52,
      "metadata": {
        "colab": {
          "base_uri": "https://localhost:8080/"
        },
        "id": "42-l41XanAv2",
        "outputId": "de362a98-6e4f-4e6b-cc15-574f2c83dfe2"
      },
      "outputs": [
        {
          "output_type": "stream",
          "name": "stderr",
          "text": [
            "/usr/local/lib/python3.11/dist-packages/torch/jit/_check.py:178: UserWarning: The TorchScript type system doesn't support instance-level annotations on empty non-base types in `__init__`. Instead, either 1) use a type annotation in the class body, or 2) wrap the type in `torch.jit.Attribute`.\n",
            "  warnings.warn(\n",
            "/usr/local/lib/python3.11/dist-packages/torch/jit/_check.py:178: UserWarning: The TorchScript type system doesn't support instance-level annotations on empty non-base types in `__init__`. Instead, either 1) use a type annotation in the class body, or 2) wrap the type in `torch.jit.Attribute`.\n",
            "  warnings.warn(\n",
            "/usr/local/lib/python3.11/dist-packages/torch/jit/_check.py:178: UserWarning: The TorchScript type system doesn't support instance-level annotations on empty non-base types in `__init__`. Instead, either 1) use a type annotation in the class body, or 2) wrap the type in `torch.jit.Attribute`.\n",
            "  warnings.warn(\n",
            "/usr/local/lib/python3.11/dist-packages/torch/jit/_check.py:178: UserWarning: The TorchScript type system doesn't support instance-level annotations on empty non-base types in `__init__`. Instead, either 1) use a type annotation in the class body, or 2) wrap the type in `torch.jit.Attribute`.\n",
            "  warnings.warn(\n",
            "/usr/local/lib/python3.11/dist-packages/torch/jit/_check.py:178: UserWarning: The TorchScript type system doesn't support instance-level annotations on empty non-base types in `__init__`. Instead, either 1) use a type annotation in the class body, or 2) wrap the type in `torch.jit.Attribute`.\n",
            "  warnings.warn(\n",
            "/usr/local/lib/python3.11/dist-packages/torch/jit/_check.py:178: UserWarning: The TorchScript type system doesn't support instance-level annotations on empty non-base types in `__init__`. Instead, either 1) use a type annotation in the class body, or 2) wrap the type in `torch.jit.Attribute`.\n",
            "  warnings.warn(\n",
            "/usr/local/lib/python3.11/dist-packages/torch/jit/_check.py:178: UserWarning: The TorchScript type system doesn't support instance-level annotations on empty non-base types in `__init__`. Instead, either 1) use a type annotation in the class body, or 2) wrap the type in `torch.jit.Attribute`.\n",
            "  warnings.warn(\n",
            "/usr/local/lib/python3.11/dist-packages/torch/jit/_check.py:178: UserWarning: The TorchScript type system doesn't support instance-level annotations on empty non-base types in `__init__`. Instead, either 1) use a type annotation in the class body, or 2) wrap the type in `torch.jit.Attribute`.\n",
            "  warnings.warn(\n",
            "/usr/local/lib/python3.11/dist-packages/torch/jit/_check.py:178: UserWarning: The TorchScript type system doesn't support instance-level annotations on empty non-base types in `__init__`. Instead, either 1) use a type annotation in the class body, or 2) wrap the type in `torch.jit.Attribute`.\n",
            "  warnings.warn(\n",
            "/usr/local/lib/python3.11/dist-packages/torch/jit/_check.py:178: UserWarning: The TorchScript type system doesn't support instance-level annotations on empty non-base types in `__init__`. Instead, either 1) use a type annotation in the class body, or 2) wrap the type in `torch.jit.Attribute`.\n",
            "  warnings.warn(\n",
            "/usr/local/lib/python3.11/dist-packages/torch/jit/_check.py:178: UserWarning: The TorchScript type system doesn't support instance-level annotations on empty non-base types in `__init__`. Instead, either 1) use a type annotation in the class body, or 2) wrap the type in `torch.jit.Attribute`.\n",
            "  warnings.warn(\n",
            "/usr/local/lib/python3.11/dist-packages/torch/jit/_check.py:178: UserWarning: The TorchScript type system doesn't support instance-level annotations on empty non-base types in `__init__`. Instead, either 1) use a type annotation in the class body, or 2) wrap the type in `torch.jit.Attribute`.\n",
            "  warnings.warn(\n",
            "/usr/local/lib/python3.11/dist-packages/torch/jit/_check.py:178: UserWarning: The TorchScript type system doesn't support instance-level annotations on empty non-base types in `__init__`. Instead, either 1) use a type annotation in the class body, or 2) wrap the type in `torch.jit.Attribute`.\n",
            "  warnings.warn(\n",
            "/usr/local/lib/python3.11/dist-packages/torch/jit/_check.py:178: UserWarning: The TorchScript type system doesn't support instance-level annotations on empty non-base types in `__init__`. Instead, either 1) use a type annotation in the class body, or 2) wrap the type in `torch.jit.Attribute`.\n",
            "  warnings.warn(\n"
          ]
        }
      ],
      "source": [
        "# setup some default prameters\n",
        "z_table = tools.AtomicNumberTable([1, 6, 8])\n",
        "atomic_energies = np.array([-1.0, -3.0, -5.0], dtype=float)\n",
        "cutoff = 3\n",
        "\n",
        "default_model_config = dict(\n",
        "        num_elements=3,  # number of chemical elements\n",
        "        atomic_energies=atomic_energies,  # atomic energies used for normalisation\n",
        "        avg_num_neighbors=8,  # avg number of neighbours of the atoms, used for internal normalisation of messages will take into consideration of atoms within r_max then divide by avg_num_neighbors for normalization\n",
        "        atomic_numbers=z_table.zs,  # atomic numbers, used to specify chemical element embeddings of the model\n",
        "        r_max=cutoff,  # cutoff\n",
        "        num_bessel=8,  # number of radial features\n",
        "        num_polynomial_cutoff=6,  # smoothness of the radial cutoff\n",
        "        max_ell=2,  # expansion order of spherical harmonic adge attributes\n",
        "        num_interactions=2,  # number of layers, typically 2\n",
        "        interaction_cls_first=modules.interaction_classes[\n",
        "            \"RealAgnosticResidualInteractionBlock\"\n",
        "        ],  # interation block of first layer\n",
        "        interaction_cls=modules.interaction_classes[\n",
        "            \"RealAgnosticResidualInteractionBlock\"\n",
        "        ],  # interaction block of subsequent layers\n",
        "        hidden_irreps=o3.Irreps(\"8x0e + 8x1o\"),  # 8: number of embedding channels, 0e, 1o is specifying which equivariant messages to use. Here up to L_max=1\n",
        "        correlation=3,  # correlation order of the messages (body order - 1) 4 body interactions will be accounted for in this model\n",
        "        MLP_irreps=o3.Irreps(\"16x0e\"),  # number of hidden dimensions of last layer readout MLP\n",
        "        gate=torch.nn.functional.silu,  # nonlinearity used in last layer readout MLP\n",
        "    )\n",
        "default_model = modules.MACE(**default_model_config)"
      ]
    },
    {
      "cell_type": "markdown",
      "metadata": {
        "id": "RjYw5Eky97jB"
      },
      "source": [
        "# Representing Spherical Tensors: Ylm's\n",
        "\n",
        "Within many popular MLIP architectures, including MACE, descriptors are represented as 'spherical tensors'.\n",
        "\n",
        "To explain spherical tensors we first need to state that the spherical harmoincs 'transform' in a special way when their argument is rotated. This means that if you take a vector $\\boldsymbol{\\hat{r}}$ and rotate it by some matrix, $\\boldsymbol{\\hat{r}} \\rightarrow R\\boldsymbol{\\hat{r}}$, the value of the spherical harmonic $Y^{m}_{l} (\\boldsymbol{\\hat{r}})$ will also change. You don't need to know the maths of how the $Y_{m}^l$ transforms today, but in short this is the result:\n",
        "\n",
        "$$ Y_{lm}(R\\mathbf{r}) = \\sum_{m'} D(R)^l_{mm'} Y_{lm'}(\\mathbf{r})$$\n",
        "\n",
        "In which $D(R)$ is a unitary matrix called a Wiger D-matrix. You can find more info [here](https://en.wikipedia.org/wiki/Spherical_harmonics#Rotations).\n",
        "\n",
        "The embeddings in MACE contain a function to compute the spherical harmonics. Lets quickly demonstrate how $Y^{m}_{l}$ changes as $\\boldsymbol{\\hat{r}}$ is rotated."
      ]
    },
    {
      "cell_type": "code",
      "source": [
        "spherical_harmonics = o3.SphericalHarmonics([0,1,2,3], True)\n",
        "vector = torch.tensor(np.random.rand(3))\n",
        "sp_h_0 = spherical_harmonics(vector)\n",
        "sp_h_0"
      ],
      "metadata": {
        "colab": {
          "base_uri": "https://localhost:8080/"
        },
        "id": "aRL28DYxsWNp",
        "outputId": "29529ee0-f611-4ded-e777-12f28d117c13"
      },
      "execution_count": 7,
      "outputs": [
        {
          "output_type": "execute_result",
          "data": {
            "text/plain": [
              "tensor([ 2.8209e-01,  2.2978e-01,  3.8351e-04,  4.3120e-01,  4.5344e-01,\n",
              "         4.0329e-04, -3.1539e-01,  7.5680e-04,  3.0464e-01,  5.8698e-01,\n",
              "         9.4165e-04, -2.1494e-01, -8.7873e-04, -4.0335e-01,  6.3264e-04,\n",
              "         6.0059e-02])"
            ]
          },
          "metadata": {},
          "execution_count": 7
        }
      ]
    },
    {
      "cell_type": "code",
      "execution_count": 8,
      "metadata": {
        "colab": {
          "base_uri": "https://localhost:8080/"
        },
        "id": "RKcZ-2qF97jC",
        "outputId": "e215af02-5a36-4e8a-9996-f04b3404fdb0"
      },
      "outputs": [
        {
          "output_type": "stream",
          "name": "stdout",
          "text": [
            "tensor([ 0.2821,  0.3860,  0.0772,  0.2895,  0.5113,  0.1364, -0.2918,  0.1023,\n",
            "        -0.1491])\n"
          ]
        }
      ],
      "source": [
        "# a function for Ylms where we evaluate for l=0,1,2.\n",
        "spherical_harmonics = o3.SphericalHarmonics([0,1,2], True)\n",
        "\n",
        "# evaulate spherical harmonics on a vector\n",
        "vector = torch.tensor([1.0, 0.2, 0.75])\n",
        "print(spherical_harmonics(vector))"
      ]
    },
    {
      "cell_type": "markdown",
      "metadata": {
        "id": "8xjTMAn897jC"
      },
      "source": [
        "Why is the array 9 elements long? We calculated the $l=0,1,2$ for all valid $m's$, and stored them in this format: $$[Y_0^0, \\ \\ Y_{1}^{-1}, Y_{1}^{0},Y_{1}^{1}, \\ \\ Y_{2}^{-2}, Y_{2}^{-1}, Y_{2}^{0}, Y_{2}^{1}, Y_{2}^{2}, ]$$\n",
        "\n",
        "Which has 9 elements in total. Generally, this is how most arrays are stored in MACE. The final dimesion of the array combines the $l$ and $m$ indicices, and concatenates the values like this.\n",
        "\n",
        "How do these transform under rotations? We can simply rotate the vector and get an idea for what happens by plotting the result:"
      ]
    },
    {
      "cell_type": "code",
      "execution_count": 9,
      "metadata": {
        "colab": {
          "base_uri": "https://localhost:8080/",
          "height": 523
        },
        "id": "IZuBXF-r97jC",
        "outputId": "f88987ca-c953-4efd-d864-d6cc23a78636"
      },
      "outputs": [
        {
          "output_type": "stream",
          "name": "stderr",
          "text": [
            "<ipython-input-9-59641c67eadd>:10: UserWarning: Creating a tensor from a list of numpy.ndarrays is extremely slow. Please consider converting the list to a single numpy.ndarray with numpy.array() before converting to a tensor. (Triggered internally at ../torch/csrc/utils/tensor_new.cpp:278.)\n",
            "  rotated_vectors = torch.tensor(rotated_vectors, dtype=torch.float32)\n"
          ]
        },
        {
          "output_type": "stream",
          "name": "stdout",
          "text": [
            "shape of Y_lms array is  torch.Size([360, 9])\n"
          ]
        },
        {
          "output_type": "display_data",
          "data": {
            "text/plain": [
              "<Figure size 640x480 with 1 Axes>"
            ],
            "image/png": "[encoded data removed]"
          },
          "metadata": {}
        }
      ],
      "source": [
        "# make a list of rotated versions of the vector\n",
        "rotated_vectors = []\n",
        "vector = np.array([1.0, 0.2, 0.75])\n",
        "N=360\n",
        "for i in range(N):\n",
        "    rotation_matrix = Rotation.from_rotvec(i * 2*np.pi * np.array([0, 0.7071, 0.7071])/360).as_matrix() # rotate around the vector [0, 0.7071, 0.7071]\n",
        "    rotated_vectors.append(rotation_matrix @ vector)\n",
        "\n",
        "# convert to torch tensor\n",
        "rotated_vectors = torch.tensor(rotated_vectors, dtype=torch.float32)\n",
        "\n",
        "# compute the spherical harmonics for each vector\n",
        "spherical_harmonic_values = spherical_harmonics(rotated_vectors)\n",
        "print('shape of Y_lms array is ', spherical_harmonic_values.shape)\n",
        "\n",
        "# plot\n",
        "labels = [[f'l={l}, m={m}' for m in range(-l,l+1)] for l in range(3)]\n",
        "labels = [x for xs in labels for x in xs] # flatten\n",
        "plt.plot(spherical_harmonic_values.numpy(), label=labels)\n",
        "plt.legend()\n",
        "plt.xlabel('rotation angle')\n",
        "plt.ylabel('spherical harmonic value')\n",
        "plt.show()"
      ]
    },
    {
      "cell_type": "markdown",
      "metadata": {
        "id": "tmUtHuAx97jC"
      },
      "source": [
        "The key points to note are that the $l=0$ component is constant - it does not change when the vector is rotated.  The other components do change, and as $l$ increases the frequency of the features increases."
      ]
    },
    {
      "cell_type": "code",
      "source": [
        "print(vector)\n",
        "rotated_vectors[0]"
      ],
      "metadata": {
        "colab": {
          "base_uri": "https://localhost:8080/"
        },
        "id": "QMB42ROGs1gx",
        "outputId": "bd958643-7021-49d6-b9c8-2e39e7d2e519"
      },
      "execution_count": 11,
      "outputs": [
        {
          "output_type": "stream",
          "name": "stdout",
          "text": [
            "[1.   0.2  0.75]\n"
          ]
        },
        {
          "output_type": "execute_result",
          "data": {
            "text/plain": [
              "tensor([1.0000, 0.2000, 0.7500], dtype=torch.float32)"
            ]
          },
          "metadata": {},
          "execution_count": 11
        }
      ]
    },
    {
      "cell_type": "markdown",
      "metadata": {
        "id": "Thy6r_ZQ97jC"
      },
      "source": [
        "## Getting Invariant Quantities with `e3nn`\n",
        "\n",
        "Enevtually we want to make a model where the output is invariant to rotations. To do this, we could just take the $l=0$ piece of the spherical harmonics, but doing this doesn't give us much information.\n",
        "\n",
        "For example: Lets take a pair of vectors, get the spherical harmonics for both."
      ]
    },
    {
      "cell_type": "code",
      "execution_count": 12,
      "metadata": {
        "colab": {
          "base_uri": "https://localhost:8080/"
        },
        "id": "oCmzVj6n97jC",
        "outputId": "2ea8ea9f-ceb3-4529-c890-6aba85a56f58"
      },
      "outputs": [
        {
          "output_type": "stream",
          "name": "stdout",
          "text": [
            "l=0 component for vector 1: tensor(0.2821)\n",
            "l=0 component for vector 2: tensor(0.2821)\n"
          ]
        }
      ],
      "source": [
        "np.random.seed(0)\n",
        "vector1 = np.random.randn(3)\n",
        "vector1 = vector1 / np.linalg.norm(vector1)\n",
        "vector2 = np.random.randn(3)\n",
        "vector2 = vector2 / np.linalg.norm(vector2)\n",
        "\n",
        "spherical_harmonics = o3.SphericalHarmonics([0,1,2,3], True)\n",
        "spherical_harmonics_1 = spherical_harmonics(torch.tensor(vector1))\n",
        "spherical_harmonics_2 = spherical_harmonics(torch.tensor(vector2))\n",
        "\n",
        "print('l=0 component for vector 1:', spherical_harmonics_1[0])\n",
        "print('l=0 component for vector 2:', spherical_harmonics_2[0])"
      ]
    },
    {
      "cell_type": "markdown",
      "metadata": {
        "id": "puYLnl7u97jC"
      },
      "source": [
        "This isn't very useful, because the $l=0$ piece doesn't contain any angular information for either vector, so we have no way to know, for instance, the angle between them.\n",
        "\n",
        "You can test this by changing one or both of the vectors (via the numpy seed). The $l=0$ piece won't change."
      ]
    },
    {
      "cell_type": "markdown",
      "metadata": {
        "id": "_l_uL50O97jC"
      },
      "source": [
        "### How do we get Invariants which describe angular information?\n",
        "\n",
        "To get a more descriptive invariant quantity, we need to do some operations on the spherical harmoincs. We care about how spherical harmonics change when you rotate the input, because its easy to keep track of how rotation affects things. This means that its easy to get back to an invariant quantity when we need to. In MACE, and many other MLIPs, this maths is done by a package called `e3nn`.\n",
        "\n",
        "`e3nn` provides functions which perform operations on spherical tensors (things with elements like $[Y_{0}^0, Y_{1}^{-1}, Y_{1}^0, ...]$), while keeping track of the rotations. One example operation is a tensor product, which takes two arrays, $A_{lm}$ and $B_{lm}$, and multiplies them to give $C_{lm}$:\n",
        "\n",
        "$$[A_{lm}] \\ \\otimes \\ [B_{lm}] \\ = \\ [C_{lm}]$$\n",
        "\n",
        "The key is that $C$ is still indexed by $l$ and $m$, so if we look at the $l=0$ piece, it will still be invariant! This means we can do a load of operations to combine spherical harmonics, and then create invariant descrpitors which know about things like angles ebtween vectors.\n",
        "\n",
        "We can demonstrate this by the two vectors above, doing the tensor product of them, and keeping all the outputs which are invariant to rotations."
      ]
    },
    {
      "cell_type": "code",
      "execution_count": 13,
      "metadata": {
        "colab": {
          "base_uri": "https://localhost:8080/",
          "height": 529
        },
        "id": "ahJbDnz597jC",
        "outputId": "e5029233-45ae-4211-b931-e31b5adcebee"
      },
      "outputs": [
        {
          "output_type": "stream",
          "name": "stdout",
          "text": [
            "FullyConnectedTensorProduct(1x0e+1x1o+1x2e+1x3o x 1x0e+1x1o+1x2e+1x3o -> 3x0e | 12 paths | 12 weights)\n"
          ]
        },
        {
          "output_type": "stream",
          "name": "stderr",
          "text": [
            "/usr/local/lib/python3.11/dist-packages/torch/jit/_check.py:178: UserWarning: The TorchScript type system doesn't support instance-level annotations on empty non-base types in `__init__`. Instead, either 1) use a type annotation in the class body, or 2) wrap the type in `torch.jit.Attribute`.\n",
            "  warnings.warn(\n"
          ]
        },
        {
          "output_type": "execute_result",
          "data": {
            "text/plain": [
              "(<Figure size 640x480 with 1 Axes>, <Axes: >)"
            ]
          },
          "metadata": {},
          "execution_count": 13
        },
        {
          "output_type": "display_data",
          "data": {
            "text/plain": [
              "<Figure size 640x480 with 1 Axes>"
            ],
            "image/png": "[encoded data removed]"
          },
          "metadata": {}
        }
      ],
      "source": [
        "# set up a tensor product.\n",
        "# This does the product of two l=0,1,2,3 arrays, and maps the result to three l=0 values.\n",
        "tensor_product = o3.FullyConnectedTensorProduct(\n",
        "    irreps_in1=o3.Irreps(\"1x0e + 1x1o + 1x2e + 1x3o\"),\n",
        "    irreps_in2=o3.Irreps(\"1x0e + 1x1o + 1x2e + 1x3o\"),\n",
        "    irreps_out=o3.Irreps(\"3x0e\"),\n",
        "    internal_weights=False\n",
        ")\n",
        "print(tensor_product)\n",
        "tensor_product.visualize()"
      ]
    },
    {
      "cell_type": "markdown",
      "metadata": {
        "id": "-DM5lzLx97jC"
      },
      "source": [
        "The diagram shows schematically how the tensor product is combining the elements of the inputs to make the output."
      ]
    },
    {
      "cell_type": "code",
      "execution_count": 14,
      "metadata": {
        "colab": {
          "base_uri": "https://localhost:8080/"
        },
        "id": "1o-a1g0M97jC",
        "outputId": "8a1be5b9-dcf9-447c-b8ce-8eb53d9eb1c5"
      },
      "outputs": [
        {
          "output_type": "stream",
          "name": "stdout",
          "text": [
            "invariant outputs: tensor([[-0.1705, -0.1267, -0.0828]])\n"
          ]
        }
      ],
      "source": [
        "# product the arrays\n",
        "product = tensor_product(\n",
        "    spherical_harmonics_1.unsqueeze(0),\n",
        "    spherical_harmonics_2.unsqueeze(0),\n",
        "    weight=torch.arange(1,13,1) # the product has weights which can be trained - for now I have fixed them\n",
        ")\n",
        "print('invariant outputs:', product)"
      ]
    },
    {
      "cell_type": "markdown",
      "source": [
        "Understanding how do the weights change as I change the tensor_product definition"
      ],
      "metadata": {
        "id": "DTMd6XGKt08I"
      }
    },
    {
      "cell_type": "code",
      "source": [
        "tensor_product = o3.FullyConnectedTensorProduct(\n",
        "    irreps_in1=o3.Irreps(\"1x0e + 1x1o + 1x2e\"),\n",
        "    irreps_in2=o3.Irreps(\"1x0e + 1x1o + 1x2e\"),\n",
        "    irreps_out=o3.Irreps(\"3x0e\"),\n",
        "    internal_weights=False\n",
        ")\n",
        "print(tensor_product)\n",
        "tensor_product.visualize()"
      ],
      "metadata": {
        "colab": {
          "base_uri": "https://localhost:8080/",
          "height": 529
        },
        "id": "qO_QuhR6tZjj",
        "outputId": "53444ab4-f3a7-4cb2-8ee8-8e9af183928b"
      },
      "execution_count": 31,
      "outputs": [
        {
          "output_type": "stream",
          "name": "stdout",
          "text": [
            "FullyConnectedTensorProduct(1x0e+1x1o+1x2e x 1x0e+1x1o+1x2e -> 3x0e | 9 paths | 9 weights)\n"
          ]
        },
        {
          "output_type": "stream",
          "name": "stderr",
          "text": [
            "/usr/local/lib/python3.11/dist-packages/torch/jit/_check.py:178: UserWarning: The TorchScript type system doesn't support instance-level annotations on empty non-base types in `__init__`. Instead, either 1) use a type annotation in the class body, or 2) wrap the type in `torch.jit.Attribute`.\n",
            "  warnings.warn(\n"
          ]
        },
        {
          "output_type": "execute_result",
          "data": {
            "text/plain": [
              "(<Figure size 640x480 with 1 Axes>, <Axes: >)"
            ]
          },
          "metadata": {},
          "execution_count": 31
        },
        {
          "output_type": "display_data",
          "data": {
            "text/plain": [
              "<Figure size 640x480 with 1 Axes>"
            ],
            "image/png": "[encoded data removed]"
          },
          "metadata": {}
        }
      ]
    },
    {
      "cell_type": "code",
      "source": [
        "print(torch.arange(1,10,1))\n",
        "print(torch.arange(9,0,-1))\n",
        "print(torch.ones(9))"
      ],
      "metadata": {
        "colab": {
          "base_uri": "https://localhost:8080/"
        },
        "id": "rYw9kQWxuo_w",
        "outputId": "b5b72edb-3f2f-4430-b954-3f0f82009282"
      },
      "execution_count": 32,
      "outputs": [
        {
          "output_type": "stream",
          "name": "stdout",
          "text": [
            "tensor([1, 2, 3, 4, 5, 6, 7, 8, 9])\n",
            "tensor([9, 8, 7, 6, 5, 4, 3, 2, 1])\n",
            "tensor([1., 1., 1., 1., 1., 1., 1., 1., 1.])\n"
          ]
        }
      ]
    },
    {
      "cell_type": "code",
      "source": [
        "spherical_harmonics = o3.SphericalHarmonics([0,1,2], True)\n",
        "spherical_harmonics_1 = spherical_harmonics(torch.tensor(vector1))\n",
        "spherical_harmonics_2 = spherical_harmonics(torch.tensor(vector2))\n",
        "\n",
        "product = tensor_product(\n",
        "    spherical_harmonics_1.unsqueeze(0),\n",
        "    spherical_harmonics_2.unsqueeze(0),\n",
        "    weight=torch.ones(9) # the product has weights which can be trained - for now I have fixed them\n",
        ")\n",
        "print('invariant outputs:', product)"
      ],
      "metadata": {
        "colab": {
          "base_uri": "https://localhost:8080/"
        },
        "id": "oqf6Ypwntc4A",
        "outputId": "cfd1b593-c2a1-4828-9dcc-0de1c1b7dcc2"
      },
      "execution_count": 33,
      "outputs": [
        {
          "output_type": "stream",
          "name": "stdout",
          "text": [
            "invariant outputs: tensor([[0.0956, 0.0956, 0.0956]])\n"
          ]
        }
      ]
    },
    {
      "cell_type": "markdown",
      "source": [
        "Role of weights in the tensor_product of the two vectors"
      ],
      "metadata": {
        "id": "c8JcVbput_LE"
      }
    },
    {
      "cell_type": "code",
      "source": [
        "product = tensor_product(\n",
        "    spherical_harmonics_1.unsqueeze(0),\n",
        "    spherical_harmonics_2.unsqueeze(0),\n",
        "    weight=torch.arange(9,0,-1) # the product has weights which can be trained - for now I have fixed them\n",
        ")\n",
        "print('invariant outputs:', product)"
      ],
      "metadata": {
        "colab": {
          "base_uri": "https://localhost:8080/"
        },
        "id": "OqWXy5cKuhun",
        "outputId": "1b115421-316a-4545-b8cc-997d9cc184b8"
      },
      "execution_count": 34,
      "outputs": [
        {
          "output_type": "stream",
          "name": "stdout",
          "text": [
            "invariant outputs: tensor([[0.7038, 0.6082, 0.5125]])\n"
          ]
        }
      ]
    },
    {
      "cell_type": "code",
      "source": [
        "product = tensor_product(\n",
        "    spherical_harmonics_1.unsqueeze(0),\n",
        "    spherical_harmonics_2.unsqueeze(0),\n",
        "    weight=torch.arange(1,10,1) # the product has weights which can be trained - for now I have fixed them\n",
        ")\n",
        "print('invariant outputs:', product)"
      ],
      "metadata": {
        "colab": {
          "base_uri": "https://localhost:8080/"
        },
        "id": "Qfv_6d9wwyxc",
        "outputId": "732fb340-8379-41c2-911c-54f8bf6e71c2"
      },
      "execution_count": 35,
      "outputs": [
        {
          "output_type": "stream",
          "name": "stdout",
          "text": [
            "invariant outputs: tensor([[0.2524, 0.3480, 0.4436]])\n"
          ]
        }
      ]
    },
    {
      "cell_type": "markdown",
      "metadata": {
        "id": "mQcirH4W97jC"
      },
      "source": [
        "Now we have three outputs, and they have the property that they are invariant to rotations of the *entire* structure (i.e. rotating oth vectors) but then still change when the angle between the vectors changes.\n",
        "\n",
        "We can demonstrate this:"
      ]
    },
    {
      "cell_type": "code",
      "execution_count": 36,
      "metadata": {
        "colab": {
          "base_uri": "https://localhost:8080/"
        },
        "id": "JE-mqM2f97jC",
        "outputId": "fcd10b57-7a9a-466b-dc6f-c23bd87103bd"
      },
      "outputs": [
        {
          "output_type": "stream",
          "name": "stdout",
          "text": [
            "invariant outputs: tensor([[0.2524, 0.3480, 0.4436]])\n"
          ]
        }
      ],
      "source": [
        "angle = 77.7 # degrees\n",
        "rotation_matrix = Rotation.from_rotvec(angle * 2*np.pi * np.array([0, 0.7071, 0.7071])/360).as_matrix()\n",
        "\n",
        "rotated_vec1 = rotation_matrix @ vector1\n",
        "rotated_vec2 = rotation_matrix @ vector2\n",
        "\n",
        "# get the spherical harmpnics\n",
        "spherical_harmonics_1 = spherical_harmonics(torch.from_numpy(rotated_vec1))\n",
        "spherical_harmonics_2 = spherical_harmonics(torch.from_numpy(rotated_vec2))\n",
        "\n",
        "product = tensor_product(\n",
        "    spherical_harmonics_1.unsqueeze(0),\n",
        "    spherical_harmonics_2.unsqueeze(0),\n",
        "    weight=torch.arange(1,10,1) # the product has weights which can be trained - for now I have fixed them\n",
        ")\n",
        "print('invariant outputs:', product)"
      ]
    },
    {
      "cell_type": "markdown",
      "metadata": {
        "id": "DWTh3p7J97jD"
      },
      "source": [
        "You can see that the values are the same as before the rotation, but if you go back and change the seed used for creating the two vectors, they will be different. This meas that we have have made invariant quantities which can tell two pairs of unit vectors apart.\n",
        "\n",
        "These kind of operations are what MACE is built on."
      ]
    },
    {
      "cell_type": "markdown",
      "metadata": {
        "id": "9Q4hG7Fj97jD"
      },
      "source": [
        "# MACE Feature Construction\n",
        "\n",
        "We can now go through some key parts of the feature construction and look at the internal variables. The schematic at the top of the document has a full overview, and the key bits will be repeated.\n",
        "\n",
        "## 0. Data Prep\n",
        "\n",
        "The first step in MACE is to take the atomic structure and represent it as a list of atoms and 'edges'. An edge is simply a connection between two atoms. The cutoff radius of the MACE layer determines which atoms are connected by an edge.\n",
        "\n",
        "Below we load a list of molecule, and show how the atoms and edges are stored."
      ]
    },
    {
      "cell_type": "code",
      "source": [
        "!git clone https://github.com/imagdau/Tutorials.git\n",
        "!ls\n",
        "%cd Tutorials\n",
        "!ls"
      ],
      "metadata": {
        "colab": {
          "base_uri": "https://localhost:8080/"
        },
        "id": "l55dsFkCD3m_",
        "outputId": "1ce917f3-5fb5-4369-8b7c-b190cedc89b5"
      },
      "execution_count": 37,
      "outputs": [
        {
          "output_type": "stream",
          "name": "stdout",
          "text": [
            "Cloning into 'Tutorials'...\n",
            "remote: Enumerating objects: 350, done.\u001b[K\n",
            "remote: Counting objects: 100% (120/120), done.\u001b[K\n",
            "remote: Compressing objects: 100% (85/85), done.\u001b[K\n",
            "remote: Total 350 (delta 58), reused 93 (delta 35), pack-reused 230 (from 1)\u001b[K\n",
            "Receiving objects: 100% (350/350), 34.19 MiB | 21.01 MiB/s, done.\n",
            "Resolving deltas: 100% (166/166), done.\n",
            "sample_data  Tutorials\n",
            "/content/Tutorials\n",
            "config\tdata.py  LICENSE      moldyn\t T01-MACE-Practice-I.ipynb   T03-MACE-Theory.ipynb  tests\n",
            "data\tfigures  MACE_models  README.md  T02-MACE-Practice-II.ipynb  T04-MLIP-Apps.ipynb\n"
          ]
        }
      ]
    },
    {
      "cell_type": "code",
      "execution_count": 41,
      "metadata": {
        "colab": {
          "base_uri": "https://localhost:8080/"
        },
        "id": "L1P09Aq-97jD",
        "outputId": "783cefe1-9ea3-4585-a79e-cb3d9c3a72ec"
      },
      "outputs": [
        {
          "output_type": "stream",
          "name": "stdout",
          "text": [
            "positions: tensor([[-0.0635,  0.0262,  0.0327],\n",
            "        [-1.0975, -0.5617, -0.3338],\n",
            "        [ 0.5934,  0.0418,  1.1689],\n",
            "        [ 0.7073,  0.5805, -0.9280],\n",
            "        [-0.1848, -0.3831,  2.2763],\n",
            "        [ 0.1179,  0.3132, -2.1891],\n",
            "        [ 0.5008, -0.5289,  3.1636],\n",
            "        [-0.9913,  0.3712,  2.5703],\n",
            "        [-0.7990, -1.1969,  1.9391],\n",
            "        [ 0.8217,  0.3929, -3.0412],\n",
            "        [-0.5198, -0.6345, -2.2321],\n",
            "        [-0.6849,  1.1558, -2.3539]])\n",
            "node_attrs: tensor([[0., 1., 0.],\n",
            "        [0., 0., 1.],\n",
            "        [0., 0., 1.],\n",
            "        [0., 0., 1.],\n",
            "        [0., 1., 0.],\n",
            "        [0., 1., 0.],\n",
            "        [1., 0., 0.],\n",
            "        [1., 0., 0.],\n",
            "        [1., 0., 0.],\n",
            "        [1., 0., 0.],\n",
            "        [1., 0., 0.],\n",
            "        [1., 0., 0.]])\n",
            "edge_index: tensor([[ 0,  0,  0,  0,  0,  0,  0,  0,  0,  1,  1,  1,  1,  1,  1,  1,  1,  2,\n",
            "          2,  2,  2,  2,  2,  2,  3,  3,  3,  3,  3,  3,  3,  4,  4,  4,  4,  4,\n",
            "          4,  5,  5,  5,  5,  5,  5,  6,  6,  6,  6,  7,  7,  7,  7,  7,  8,  8,\n",
            "          8,  8,  8,  8,  9,  9,  9,  9, 10, 10, 10, 10, 10, 10, 11, 11, 11, 11,\n",
            "         11, 11],\n",
            "        [ 1,  2,  3,  4,  5,  7,  8, 10, 11,  0,  2,  3,  4,  5,  8, 10, 11,  0,\n",
            "          1,  3,  4,  7,  8,  6,  0,  1,  2,  5,  9, 10, 11,  0,  1,  2,  7,  8,\n",
            "          6,  0,  1,  3,  9, 10, 11,  2,  4,  7,  8,  0,  2,  4,  8,  6,  0,  1,\n",
            "          2,  4,  7,  6,  3,  5, 10, 11,  0,  1,  3,  5,  9, 11,  0,  1,  3,  5,\n",
            "          9, 10]])\n"
          ]
        }
      ],
      "source": [
        "single_molecule = ase.io.read('data/solvent_rotated.xyz', index='0')\n",
        "\n",
        "Rcut = 3.0 # cutoff radius\n",
        "z_table = tools.AtomicNumberTable([1, 6, 8])\n",
        "\n",
        "config = data.Configuration(\n",
        "    atomic_numbers=single_molecule.numbers,\n",
        "    positions=single_molecule.positions\n",
        ")\n",
        "\n",
        "# we handle configurations using the AtomicData class\n",
        "batch = data.AtomicData.from_config(config, z_table=z_table, cutoff=Rcut)\n",
        "print(\"positions:\", batch.positions)\n",
        "print(\"node_attrs:\", batch.node_attrs)\n",
        "print(\"edge_index:\", batch.edge_index)"
      ]
    },
    {
      "cell_type": "markdown",
      "metadata": {
        "id": "b7gp8xVu97jD"
      },
      "source": [
        "The `node_attrs` describe the species. `[1,0,0]` means the first kind of element, `[0,1,0]` means the second kind, and so on.\n",
        "\n",
        "In this case we told MACE to work with Hydrogen, Carbon and Oxygen with the line `z_table = ...`.\n",
        "\n",
        "The 'edges' are stored by a list of 'senders' and 'receievers', which represent the start and end point of each edge.\n",
        "\n",
        "We can now compute the lengths and directions of each edge:"
      ]
    },
    {
      "cell_type": "code",
      "source": [
        "print(batch.positions.shape)\n",
        "print(batch.node_attrs.shape)\n",
        "print(batch.edge_index.shape)"
      ],
      "metadata": {
        "colab": {
          "base_uri": "https://localhost:8080/"
        },
        "id": "quOgYiSn01ZF",
        "outputId": "6898172d-390f-4b45-ccc8-9f7839147cec"
      },
      "execution_count": 43,
      "outputs": [
        {
          "output_type": "stream",
          "name": "stdout",
          "text": [
            "torch.Size([12, 3])\n",
            "torch.Size([12, 3])\n",
            "torch.Size([2, 74])\n"
          ]
        }
      ]
    },
    {
      "cell_type": "code",
      "source": [
        "batch.edge_index[1]"
      ],
      "metadata": {
        "colab": {
          "base_uri": "https://localhost:8080/"
        },
        "id": "wpJTBerM1nTu",
        "outputId": "173a438a-a6a0-47ab-fc4e-1c49f22e4ebe"
      },
      "execution_count": 45,
      "outputs": [
        {
          "output_type": "execute_result",
          "data": {
            "text/plain": [
              "tensor([ 1,  2,  3,  4,  5,  7,  8, 10, 11,  0,  2,  3,  4,  5,  8, 10, 11,  0,\n",
              "         1,  3,  4,  7,  8,  6,  0,  1,  2,  5,  9, 10, 11,  0,  1,  2,  7,  8,\n",
              "         6,  0,  1,  3,  9, 10, 11,  2,  4,  7,  8,  0,  2,  4,  8,  6,  0,  1,\n",
              "         2,  4,  7,  6,  3,  5, 10, 11,  0,  1,  3,  5,  9, 11,  0,  1,  3,  5,\n",
              "         9, 10])"
            ]
          },
          "metadata": {},
          "execution_count": 45
        }
      ]
    },
    {
      "cell_type": "code",
      "source": [
        "# So 12 atoms in the molecular system\n",
        "# Node attrs are in one-hot encoding of these\n",
        "# edge_index[0] - edge_index[1]: gives the connections between atoms (bonds), therefore 74 such connections are there"
      ],
      "metadata": {
        "id": "npZYoNii1T51"
      },
      "execution_count": 46,
      "outputs": []
    },
    {
      "cell_type": "code",
      "execution_count": 47,
      "metadata": {
        "colab": {
          "base_uri": "https://localhost:8080/"
        },
        "id": "9kjMxENY97jD",
        "outputId": "5ce1b358-7209-4d22-c600-b49edc4e6a2d"
      },
      "outputs": [
        {
          "output_type": "stream",
          "name": "stdout",
          "text": [
            "there are 12 nodes and 74 edges\n",
            "lengths is shape torch.Size([74, 1])\n",
            "vectors is shape torch.Size([74, 3])\n"
          ]
        }
      ],
      "source": [
        "vectors, lengths = modules.utils.get_edge_vectors_and_lengths(\n",
        "    positions=batch[\"positions\"],\n",
        "    edge_index=batch[\"edge_index\"],\n",
        "    shifts=batch[\"shifts\"],\n",
        ")\n",
        "print(f'there are {batch.positions.shape[0]} nodes and {len(lengths)} edges')\n",
        "print(f'lengths is shape {lengths.shape}')\n",
        "print(f'vectors is shape {vectors.shape}')"
      ]
    },
    {
      "cell_type": "code",
      "source": [
        "# lengths - r_ij (scalar)\n",
        "# vectors - r_ij_cap (unit vectors)"
      ],
      "metadata": {
        "id": "wjKKETsr2Iuj"
      },
      "execution_count": 50,
      "outputs": []
    },
    {
      "cell_type": "markdown",
      "metadata": {
        "id": "zhwTJTTf97jD"
      },
      "source": [
        "\n",
        "## 1. Embeddings\n",
        "\n",
        "We now take this information and make the initial inputs to the MACE model. This is called the embedding.\n",
        "\n",
        "#### Key concept: MACE 'channels'\n",
        "\n",
        "The equation for the initial node features looks like this:\n",
        "$$h_{i,k00}^{(0)} = \\sum_z W_{kz} \\delta_{zz_{i}}$$\n",
        "Take the exmaple where all atoms are either hydrogen or carbon. If atom $i$ is hydrogen, the its initial node features are just $W_{k0}$. If atom $n$ is carbon it will get initial features $W_{k1}$. This means that each atom is given a vector of length $K$, based on its chemical species.\n",
        "\n",
        "```In mace, the range of k is referred to as the number of 'channels'. This is the fundamental 'size' of the descriptor```\n",
        "the figure at the top of the notebook sort of shows this.\n",
        "\n",
        "This operation of giving each atom a length-K vector depending on its species is called the node 'embedding'.\n",
        "\n",
        "We also 'embed' the lengths and directions of the edges. The lengths of the edges are mapped through a set of 8 bessel functions, and for the dircetion of the edge we just calculate the spherical harmoincs.\n",
        "\n",
        "![alt text](https://github.com/imagdau/Tutorials/blob/main/figures/embedding_layer.png?raw=1)"
      ]
    },
    {
      "cell_type": "code",
      "source": [
        "default_model_config = dict(\n",
        "        num_elements=3,\n",
        "        atomic_energies=atomic_energies,\n",
        "        avg_num_neighbors=8,\n",
        "        atomic_numbers=z_table.zs,\n",
        "        r_max=cutoff,\n",
        "        num_bessel=8,\n",
        "        num_polynomial_cutoff=6,\n",
        "        max_ell=2,\n",
        "        num_interactions=2,\n",
        "        interaction_cls_first=modules.interaction_classes[\n",
        "            \"RealAgnosticResidualInteractionBlock\"\n",
        "        ],\n",
        "        interaction_cls=modules.interaction_classes[\n",
        "            \"RealAgnosticResidualInteractionBlock\"\n",
        "        ],\n",
        "        hidden_irreps=o3.Irreps(\"8x0e + 8x1o\"),\n",
        "        correlation=3,\n",
        "        MLP_irreps=o3.Irreps(\"16x0e\"),\n",
        "        gate=torch.nn.functional.silu,\n",
        "    )"
      ],
      "metadata": {
        "id": "Dc4EFGfc6Yj5"
      },
      "execution_count": null,
      "outputs": []
    },
    {
      "cell_type": "code",
      "execution_count": 53,
      "metadata": {
        "colab": {
          "base_uri": "https://localhost:8080/"
        },
        "id": "I-YXXgsE97jD",
        "outputId": "363e1e02-41a4-401f-86f8-a9753f099d8d"
      },
      "outputs": [
        {
          "output_type": "stream",
          "name": "stderr",
          "text": [
            "/usr/local/lib/python3.11/dist-packages/torch/jit/_check.py:178: UserWarning: The TorchScript type system doesn't support instance-level annotations on empty non-base types in `__init__`. Instead, either 1) use a type annotation in the class body, or 2) wrap the type in `torch.jit.Attribute`.\n",
            "  warnings.warn(\n",
            "/usr/local/lib/python3.11/dist-packages/torch/jit/_check.py:178: UserWarning: The TorchScript type system doesn't support instance-level annotations on empty non-base types in `__init__`. Instead, either 1) use a type annotation in the class body, or 2) wrap the type in `torch.jit.Attribute`.\n",
            "  warnings.warn(\n",
            "/usr/local/lib/python3.11/dist-packages/torch/jit/_check.py:178: UserWarning: The TorchScript type system doesn't support instance-level annotations on empty non-base types in `__init__`. Instead, either 1) use a type annotation in the class body, or 2) wrap the type in `torch.jit.Attribute`.\n",
            "  warnings.warn(\n",
            "/usr/local/lib/python3.11/dist-packages/torch/jit/_check.py:178: UserWarning: The TorchScript type system doesn't support instance-level annotations on empty non-base types in `__init__`. Instead, either 1) use a type annotation in the class body, or 2) wrap the type in `torch.jit.Attribute`.\n",
            "  warnings.warn(\n",
            "/usr/local/lib/python3.11/dist-packages/torch/jit/_check.py:178: UserWarning: The TorchScript type system doesn't support instance-level annotations on empty non-base types in `__init__`. Instead, either 1) use a type annotation in the class body, or 2) wrap the type in `torch.jit.Attribute`.\n",
            "  warnings.warn(\n",
            "/usr/local/lib/python3.11/dist-packages/torch/jit/_check.py:178: UserWarning: The TorchScript type system doesn't support instance-level annotations on empty non-base types in `__init__`. Instead, either 1) use a type annotation in the class body, or 2) wrap the type in `torch.jit.Attribute`.\n",
            "  warnings.warn(\n",
            "/usr/local/lib/python3.11/dist-packages/torch/jit/_check.py:178: UserWarning: The TorchScript type system doesn't support instance-level annotations on empty non-base types in `__init__`. Instead, either 1) use a type annotation in the class body, or 2) wrap the type in `torch.jit.Attribute`.\n",
            "  warnings.warn(\n",
            "/usr/local/lib/python3.11/dist-packages/torch/jit/_check.py:178: UserWarning: The TorchScript type system doesn't support instance-level annotations on empty non-base types in `__init__`. Instead, either 1) use a type annotation in the class body, or 2) wrap the type in `torch.jit.Attribute`.\n",
            "  warnings.warn(\n",
            "/usr/local/lib/python3.11/dist-packages/torch/jit/_check.py:178: UserWarning: The TorchScript type system doesn't support instance-level annotations on empty non-base types in `__init__`. Instead, either 1) use a type annotation in the class body, or 2) wrap the type in `torch.jit.Attribute`.\n",
            "  warnings.warn(\n",
            "/usr/local/lib/python3.11/dist-packages/torch/jit/_check.py:178: UserWarning: The TorchScript type system doesn't support instance-level annotations on empty non-base types in `__init__`. Instead, either 1) use a type annotation in the class body, or 2) wrap the type in `torch.jit.Attribute`.\n",
            "  warnings.warn(\n",
            "/usr/local/lib/python3.11/dist-packages/torch/jit/_check.py:178: UserWarning: The TorchScript type system doesn't support instance-level annotations on empty non-base types in `__init__`. Instead, either 1) use a type annotation in the class body, or 2) wrap the type in `torch.jit.Attribute`.\n",
            "  warnings.warn(\n",
            "/usr/local/lib/python3.11/dist-packages/torch/jit/_check.py:178: UserWarning: The TorchScript type system doesn't support instance-level annotations on empty non-base types in `__init__`. Instead, either 1) use a type annotation in the class body, or 2) wrap the type in `torch.jit.Attribute`.\n",
            "  warnings.warn(\n"
          ]
        },
        {
          "output_type": "stream",
          "name": "stdout",
          "text": [
            "initial_node_features is (num_atoms, num_channels): torch.Size([12, 8])\n",
            "edge_features is (num_edge, num_bessel_func): torch.Size([74, 8])\n",
            "edge_attributes is (num_edge, dimension of spherical harmonics): torch.Size([74, 9])\n",
            "\n",
            "Initial node features. Note that they are the same for each chemical element\n",
            " tensor([[ 0.5025, -0.4695, -0.0306,  0.0979,  0.5115,  0.9986,  0.6454, -0.0943],\n",
            "        [-0.3407, -0.9343, -0.0380, -0.6136,  0.3584,  0.4101, -0.9703,  0.0233],\n",
            "        [-0.3407, -0.9343, -0.0380, -0.6136,  0.3584,  0.4101, -0.9703,  0.0233],\n",
            "        [-0.3407, -0.9343, -0.0380, -0.6136,  0.3584,  0.4101, -0.9703,  0.0233],\n",
            "        [ 0.5025, -0.4695, -0.0306,  0.0979,  0.5115,  0.9986,  0.6454, -0.0943],\n",
            "        [ 0.5025, -0.4695, -0.0306,  0.0979,  0.5115,  0.9986,  0.6454, -0.0943],\n",
            "        [ 0.8572,  0.2870, -0.3873, -0.4407, -0.4693,  0.3216,  0.5725,  0.0340],\n",
            "        [ 0.8572,  0.2870, -0.3873, -0.4407, -0.4693,  0.3216,  0.5725,  0.0340],\n",
            "        [ 0.8572,  0.2870, -0.3873, -0.4407, -0.4693,  0.3216,  0.5725,  0.0340],\n",
            "        [ 0.8572,  0.2870, -0.3873, -0.4407, -0.4693,  0.3216,  0.5725,  0.0340],\n",
            "        [ 0.8572,  0.2870, -0.3873, -0.4407, -0.4693,  0.3216,  0.5725,  0.0340],\n",
            "        [ 0.8572,  0.2870, -0.3873, -0.4407, -0.4693,  0.3216,  0.5725,  0.0340]],\n",
            "       grad_fn=<ViewBackward0>)\n"
          ]
        },
        {
          "output_type": "stream",
          "name": "stderr",
          "text": [
            "/usr/local/lib/python3.11/dist-packages/torch/jit/_check.py:178: UserWarning: The TorchScript type system doesn't support instance-level annotations on empty non-base types in `__init__`. Instead, either 1) use a type annotation in the class body, or 2) wrap the type in `torch.jit.Attribute`.\n",
            "  warnings.warn(\n",
            "/usr/local/lib/python3.11/dist-packages/torch/jit/_check.py:178: UserWarning: The TorchScript type system doesn't support instance-level annotations on empty non-base types in `__init__`. Instead, either 1) use a type annotation in the class body, or 2) wrap the type in `torch.jit.Attribute`.\n",
            "  warnings.warn(\n"
          ]
        }
      ],
      "source": [
        "# set up a mace model to get all of the blocks in one place:\n",
        "model = modules.MACE(**default_model_config)\n",
        "\n",
        "initial_node_features = model.node_embedding(batch.node_attrs)\n",
        "edge_features = model.radial_embedding(lengths, batch[\"node_attrs\"], batch[\"edge_index\"], z_table)\n",
        "edge_attributes = model.spherical_harmonics(vectors)\n",
        "\n",
        "print('initial_node_features is (num_atoms, num_channels):', initial_node_features.shape)\n",
        "print('edge_features is (num_edge, num_bessel_func):', edge_features.shape)\n",
        "print('edge_attributes is (num_edge, dimension of spherical harmonics):', edge_attributes.shape)\n",
        "print(\n",
        "    '\\nInitial node features. Note that they are the same for each chemical element\\n',\n",
        "    initial_node_features\n",
        ")"
      ]
    },
    {
      "cell_type": "markdown",
      "source": [
        "```\n",
        "class MACE(torch.nn.Module):\n",
        "  super().__init__()\n",
        "    node_attr_irreps = o3.Irreps([(num_elements, (0, 1))]) # (l, p) - Creates an irreps object with num_elements scalar features, each being a l=0 (scalar, even parity) representation.\n",
        "    node_feats_irreps = o3.Irreps([(hidden_irreps.count(o3.Irrep(0, 1)), (0, 1))])\n",
        "    self.node_embedding = LinearNodeEmbeddingBlock(\n",
        "        irreps_in=node_attr_irreps,\n",
        "        irreps_out=node_feats_irreps,\n",
        "        cueq_config=cueq_config,\n",
        ")\n",
        "```"
      ],
      "metadata": {
        "id": "wH8wtu6I7D1X"
      }
    },
    {
      "cell_type": "code",
      "source": [
        "hidden_irreps = o3.Irreps(\"8x0e + 8x1o\")\n",
        "print(hidden_irreps.count(o3.Irrep(0, 1))) #Counts how many times the scalar irrep (l=0,p=1) appears in hidden_irreps.\n",
        "o3.Irreps([(hidden_irreps.count(o3.Irrep(0, 1)), (0, 1))])\n",
        "# cueq_config optional configuration for CUDA-accelerated equivariant computations, which might specify hardware or performance optimizations."
      ],
      "metadata": {
        "colab": {
          "base_uri": "https://localhost:8080/"
        },
        "id": "qIgJE1wk83qt",
        "outputId": "bd3bac61-0a01-4cdf-a84d-6f06e8313270"
      },
      "execution_count": 62,
      "outputs": [
        {
          "output_type": "stream",
          "name": "stdout",
          "text": [
            "8\n"
          ]
        },
        {
          "output_type": "execute_result",
          "data": {
            "text/plain": [
              "8x0e"
            ]
          },
          "metadata": {},
          "execution_count": 62
        }
      ]
    },
    {
      "cell_type": "code",
      "source": [
        "initial_node_features.shape"
      ],
      "metadata": {
        "colab": {
          "base_uri": "https://localhost:8080/"
        },
        "id": "1_Qlgyz86Fz4",
        "outputId": "0ca8a2fe-3b41-417f-f440-a38f2e9b6ea2"
      },
      "execution_count": 55,
      "outputs": [
        {
          "output_type": "execute_result",
          "data": {
            "text/plain": [
              "torch.Size([12, 8])"
            ]
          },
          "metadata": {},
          "execution_count": 55
        }
      ]
    },
    {
      "cell_type": "code",
      "execution_count": null,
      "metadata": {
        "id": "rmef3zU097jD"
      },
      "outputs": [],
      "source": [
        "# we can plot what the 'edge features' look like as a function of edge length:\n",
        "dists = torch.tensor(np.linspace(0.1, cutoff, 100), dtype=torch.get_default_dtype()).unsqueeze(-1)\n",
        "radials = model.radial_embedding(dists, batch[\"node_attrs\"], batch[\"edge_index\"], z_table)\n",
        "\n",
        "for i in range(radials.shape[1]):\n",
        "    plt.plot(dists, radials[:, i], label=f'edge feat {i}')\n",
        "\n",
        "# Add title, labels, and legend\n",
        "plt.title(\"Edge features\")\n",
        "plt.xlabel(\"distance / A\")\n",
        "plt.ylabel(\"Value\")\n",
        "plt.legend()\n",
        "\n",
        "# Display the plot\n",
        "plt.show()"
      ]
    },
    {
      "cell_type": "markdown",
      "metadata": {
        "id": "XgUt5QwO97jD"
      },
      "source": [
        "The parameter `max_ell` in the mace config (top of file) controls the maximum $l$ in the spherical harmonics, and hence the dimension of the `edge_attributes`.\n",
        "\n",
        "The intial node features are invariant, and depend only on the speices. You can check this by printing them and comparing to `batch.node_attrs`.\n",
        "\n",
        "The edge features are invariant because they only depend on length, and the edge attributes are of course spherical harmonics, and change as things rotate."
      ]
    },
    {
      "cell_type": "markdown",
      "metadata": {
        "id": "za6A7DCo97jE"
      },
      "source": [
        "\n",
        "## 2. Interaction\n",
        "\n",
        "Having created the intial features, the fun begins. The interaction block is tasked with pooling information over neighbours while tracking the properties of all arrays with $(l,m)$ indices. The output is a set of atomic features which contain information about the neighbours but are still 2-body.\n",
        "\n",
        "The figure below shows all the equations of the interaction which is used in the first layer. In the second layer of mace, the interaction step is significantly more complex - the end of this notebook discusses this if you are interested.\n",
        "\n",
        "The first layer of MACE is actually very similar to the simpler, and related, ACE model. We won't go through the internals of the interaction, but its at the end of the notebook if you are interested.\n",
        "\n",
        "![alt text](https://github.com/imagdau/Tutorials/blob/main/figures/interaction_first_layer.png?raw=1)"
      ]
    },
    {
      "cell_type": "code",
      "execution_count": null,
      "metadata": {
        "id": "sb-TD2q197jE"
      },
      "outputs": [],
      "source": [
        "Interaction = model.interactions[0]\n",
        "\n",
        "intermediate_node_features, sc = Interaction(\n",
        "    node_feats=initial_node_features,\n",
        "    node_attrs=batch.node_attrs,\n",
        "    edge_feats=edge_features,\n",
        "    edge_attrs=edge_attributes,\n",
        "    edge_index=batch.edge_index,\n",
        ")\n",
        "\n",
        "print(\"the output of the interaction is (num_atoms, channels, dim. spherical harmonics):\", intermediate_node_features.shape)"
      ]
    },
    {
      "cell_type": "markdown",
      "metadata": {
        "id": "DsDC9k0197jE"
      },
      "source": [
        "One important part of the interaction is how the `edge_attrs` (the bessel function values) enter.\n",
        "\n",
        "The bessel function values are mapped through a multilayer perceptron ('radial MLP') to make a large number of learnable functions of edge length. The output is sometimes called a 'learnable raidal basis' $R_{kl}(r_{ij})$ - one radial function for each $(k,l)$ combination.\n",
        "\n",
        "These learnable functions are then combined with the spherical harmonics of the $j\\rightarrow i$ edge, and the initial node features of the neighbouring atom ($j$). The result is that $\\phi_{ij,klm}(\\mathbf{r}_{ij})$ is quite a rich set of descriptors of the $j$'th neighbour atom.\n",
        "\n",
        "We can plot some of these radial functions to see how kind of shapes they have."
      ]
    },
    {
      "cell_type": "code",
      "execution_count": null,
      "metadata": {
        "id": "-SsXWGVN97jE"
      },
      "outputs": [],
      "source": [
        "# visulaise what the radial MLP does\n",
        "dists = torch.tensor(np.linspace(0.1, cutoff, 100), dtype=torch.get_default_dtype()).unsqueeze(-1)\n",
        "\n",
        "# first do radial embedding again\n",
        "edge_feats_scan = model.radial_embedding(dists, batch[\"node_attrs\"], batch[\"edge_index\"], model.atomic_numbers)\n",
        "\n",
        "# put the edge feats into the radial MLP\n",
        "tp_weights_scan = model.interactions[0].conv_tp_weights(edge_feats_scan).detach().numpy()\n",
        "print('the output of the radial MLP is (num_dists, num_weights):', tp_weights_scan.shape)\n",
        "\n",
        "# plot the outputs\n",
        "num_basis_to_print = 5\n",
        "for i in range(num_basis_to_print):\n",
        "    plt.plot(dists, tp_weights_scan[:, i], label=f'Learnable Radial {i}')\n",
        "\n",
        "# Add title, labels, and legend\n",
        "plt.title(f\"First {num_basis_to_print} MACE learnable radial functions (untrained)\")\n",
        "plt.xlabel(\"distance / A\")\n",
        "plt.ylabel(\"Value\")\n",
        "plt.legend()\n",
        "\n",
        "# Display the plot\n",
        "plt.show()"
      ]
    },
    {
      "cell_type": "markdown",
      "metadata": {
        "id": "bOTZdmTo97jE"
      },
      "source": [
        "Of course these functional forms will change after training."
      ]
    },
    {
      "cell_type": "markdown",
      "metadata": {
        "id": "wddqpvAz97jH"
      },
      "source": [
        "\n",
        "## 3. Product\n",
        "\n",
        "The key operation of MACE is the efficient construction of higher order features from the ${A}_{i}^{(t)}$-features (the output of the interaction).\n",
        "This is achieved by first forming tensor products of the features, and then symmetrising, as shown in the figure. This operation:\n",
        "$$\n",
        "{B}^{(t)}_{i,\\eta_{\\nu} k LM}\n",
        "= \\sum_{{l}{m}} \\mathcal{C}^{LM}_{\\eta_{\\nu}, l m} \\prod_{\\xi = 1}^{\\nu} A_{i,k l_\\xi  m_\\xi}^{(t)}\n",
        "$$\n",
        "is essentially doing $A_{lm} \\otimes A_{lm} \\otimes ...$ and eventually getting back to something which transforms in a known way - ${B}^{(t)}_{i,\\eta_{\\nu} k LM}$. It happens on each node - all pooling between neighbours is done in the interction.\n",
        "\n",
        "Like in the example above with two vectors, this product operation creates features which have angular information, but which are still invariant.\n",
        "\n",
        "![alt text](https://github.com/imagdau/Tutorials/blob/main/figures/product_layer.png?raw=1)"
      ]
    },
    {
      "cell_type": "markdown",
      "metadata": {
        "id": "RPkPdNdL97jI"
      },
      "source": [
        "The final part of the product is to linearly mix everything together and create a new set of node features.\n",
        "\n",
        "These node features don't have to be invariant. Its possible to retain some level of equivariance and then use this extra information in the second layer of MACE, where the whole interaction an product is repeated.\n",
        "\n",
        "Whether to do this is controlled by the `max_L` parameter to MACE (see the model config). If this is set to 0, then only invariant features are retained. If it is set to 1 (which is the case here), the new node features will have $l=0$ and $l=1$ pieces."
      ]
    },
    {
      "cell_type": "code",
      "execution_count": null,
      "metadata": {
        "id": "qh7necbJ97jI"
      },
      "outputs": [],
      "source": [
        "new_node_features = model.products[0](\n",
        "    node_feats=intermediate_node_features,\n",
        "    node_attrs=batch.node_attrs,\n",
        "    sc=sc,\n",
        ")\n",
        "print('new node feats are (num_atoms, (L+1)^2 * num_channels):', new_node_features.shape)"
      ]
    },
    {
      "cell_type": "markdown",
      "metadata": {
        "id": "BbkV7v_x97jI"
      },
      "source": [
        "you should find that the array is (num_atoms, 32), since 32=8*4, where 4 is because we have $[Y_{00}, Y_{1,-1}, Y_{1,0}, Y_{1,1}]$ pieces, and 8 is because we have 8 'channels'.\n",
        "\n",
        "You can check the equivariance of these features by modifying the above code to read a different config from `rotated_solvent.xyz`. This will be the same structure, but rotated. You should see that the first 32 elements are the same (since they are invariant) and the rest change."
      ]
    },
    {
      "cell_type": "markdown",
      "metadata": {
        "id": "PugYBFFH97jI"
      },
      "source": [
        "\n",
        "## 4. Readout\n",
        "\n",
        "Finally, we can take the new node features and create an actual energy. This is done by passing the node features through a `readout`.\n",
        "\n",
        "![alt text](https://github.com/imagdau/Tutorials/blob/main/figures/readout.png?raw=1)"
      ]
    },
    {
      "cell_type": "markdown",
      "metadata": {
        "id": "3vNtcHGR97jI"
      },
      "source": [
        "In an $S$-layer MACE, the readout from the features at layer $s$ is:\n",
        "\n",
        "\\begin{equation*}\n",
        "    \\mathcal{R}^{(s)} \\left( \\boldsymbol{h}_i^{(s)} \\right) =\n",
        "    \\begin{cases}\n",
        "      \\sum_{k}W^{(s)}_{k}h^{(s)}_{i,k00}     & \\text{if} \\;\\; 1 < s < S \\\\[13pt]\n",
        "      {\\rm MLP} \\left( \\left\\{ h^{(s)}_{i,k00} \\right\\}_k \\right)  &\\text{if} \\;\\; s = S\n",
        "    \\end{cases}\n",
        "\\end{equation*}\n",
        "\n",
        "In our example case this maps the 32 dimensional $h^{(1)}_{i,k00}$, the invariant part os the node features after the first interaction to the first term in the aotmic site energy:"
      ]
    },
    {
      "cell_type": "code",
      "execution_count": null,
      "metadata": {
        "id": "_1IqPvlv97jI"
      },
      "outputs": [],
      "source": [
        "print('first readout =', model.readouts[0], '\\n')\n",
        "\n",
        "energy_layer_1 = model.readouts[0](new_node_features)\n",
        "print('energy_layer_1:', energy_layer_1.shape)\n",
        "print(energy_layer_1)"
      ]
    },
    {
      "cell_type": "markdown",
      "metadata": {
        "id": "aF1NOmp597jI"
      },
      "source": [
        "And we have made an energy for each node!"
      ]
    },
    {
      "cell_type": "markdown",
      "metadata": {
        "id": "m0NnUI-797jI"
      },
      "source": [
        "## 5. Repeat\n",
        "\n",
        "The Interaction, product and readout are repeated twice, and all the atomic energy contributions are summed up to get the total energy."
      ]
    },
    {
      "cell_type": "markdown",
      "metadata": {
        "id": "Yzvq76Yf97jI"
      },
      "source": [
        "# Interaction Block in more detail\n",
        "\n",
        "At the second layer, the interaction block has a much harder task. This is because the features at the end of the first MACE layer may not be scalar, but may have an $(l,m)$ index pair.\n",
        "\n",
        "In general, the equations for layer $s$ are:\n",
        "\n",
        "![alt text](https://github.com/imagdau/Tutorials/blob/main/figures/interaction_layer_second.png?raw=1)"
      ]
    },
    {
      "cell_type": "markdown",
      "metadata": {
        "id": "iTQyL87A97jI"
      },
      "source": [
        "In this case, the learnable radial functions have a more complicated funciton.\n",
        "\n",
        "These learnable functions are then used as weights in the operation that follows, which does a product between the $j\\rightarrow i$ edge and the initial features of node $j$. You can see the detail in the equations above if you are interested.\n",
        "\n",
        "Because the learnable functions are used as weights in the following `conv_tp` operation, the output shape is just the number of weights required by that block, and they are all invariants.\n",
        "\n",
        "### Task\n",
        "\n",
        "If you really want to understand whats going on, try to work out what the output shape of the radial MLP in the second layer should be. You can access the block using some of the code snippets below:"
      ]
    },
    {
      "cell_type": "code",
      "execution_count": null,
      "metadata": {
        "id": "0X9V3LH_97jI"
      },
      "outputs": [],
      "source": [
        "# visulaise what the radial MLP does\n",
        "dists = torch.tensor(np.linspace(0.1, cutoff, 100), dtype=torch.get_default_dtype()).unsqueeze(-1)\n",
        "\n",
        "# first do radial embedding again\n",
        "edge_feats_scan = model.radial_embedding(dists, batch[\"node_attrs\"], batch[\"edge_index\"], model.atomic_numbers)\n",
        "\n",
        "# put the edge feats into the radial MLP\n",
        "### model.interactions[1] for the second layer!!!!\n",
        "# conv_tp_weights is the name for the radial MLP...\n",
        "tp_weights_scan = model.interactions[1].conv_tp_weights(edge_feats_scan).detach().numpy()\n",
        "print('the output of the radial MLP is (num_dists, num_weights):', tp_weights_scan.shape)\n",
        "\n",
        "\n",
        "# plot the outputs if you want\n",
        "num_basis_to_print = 5\n",
        "for i in range(num_basis_to_print):\n",
        "    plt.plot(dists, tp_weights_scan[:, i], label=f'Learnable Radial {i}')\n",
        "\n",
        "# Add title, labels, and legend\n",
        "plt.title(f\"First {num_basis_to_print} MACE learnable radial functions (untrained)\")\n",
        "plt.xlabel(\"distance / A\")\n",
        "plt.ylabel(\"Value\")\n",
        "plt.legend()\n",
        "\n",
        "# Display the plot\n",
        "plt.show()"
      ]
    }
  ],
  "metadata": {
    "colab": {
      "provenance": []
    },
    "kernelspec": {
      "display_name": "Python 3 (ipykernel)",
      "language": "python",
      "name": "python3"
    },
    "language_info": {
      "codemirror_mode": {
        "name": "ipython",
        "version": 3
      },
      "file_extension": ".py",
      "mimetype": "text/x-python",
      "name": "python",
      "nbconvert_exporter": "python",
      "pygments_lexer": "ipython3",
      "version": "3.11.7"
    }
  },
  "nbformat": 4,
  "nbformat_minor": 0
}